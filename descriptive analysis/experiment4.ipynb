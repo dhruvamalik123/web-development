{
 "cells": [
  {
   "cell_type": "code",
   "execution_count": 2,
   "metadata": {},
   "outputs": [],
   "source": [
    "import pandas as pd\n",
    "import datetime\n",
    "import matplotlib.pyplot as plt\n",
    "from collections import Counter\n",
    "import numpy as np"
   ]
  },
  {
   "cell_type": "code",
   "execution_count": 3,
   "metadata": {},
   "outputs": [],
   "source": [
    "df=pd.read_csv(\"superstore.csv\",encoding= 'unicode_escape')"
   ]
  },
  {
   "cell_type": "code",
   "execution_count": 5,
   "metadata": {},
   "outputs": [
    {
     "data": {
      "text/plain": [
       "Index(['Row ID', 'Order ID', 'Order Date', 'Ship Date', 'Ship Mode',\n",
       "       'Customer ID', 'Customer Name', 'Segment', 'Country', 'City', 'State',\n",
       "       'Postal Code', 'Region', 'Product ID', 'Category', 'Sub-Category',\n",
       "       'Product Name', 'Sales', 'Quantity', 'Discount', 'Profit'],\n",
       "      dtype='object')"
      ]
     },
     "execution_count": 5,
     "metadata": {},
     "output_type": "execute_result"
    }
   ],
   "source": [
    "df.columns"
   ]
  },
  {
   "cell_type": "code",
   "execution_count": 10,
   "metadata": {},
   "outputs": [
    {
     "name": "stdout",
     "output_type": "stream",
     "text": [
      "November\n"
     ]
    }
   ],
   "source": [
    "df2=df[\"Order Date\"]\n",
    "date1=df2[2]\n",
    "datelist=[]\n",
    "for i in range(len(df2)):\n",
    "    date1=df2[i]\n",
    "    parsed_date = datetime.datetime.strptime(date1, \"%m/%d/%Y\")\n",
    "    currentMonthName = parsed_date.strftime(\"%B\")\n",
    "    datelist.append(currentMonthName)\n",
    "dateframe=pd.DataFrame(datelist)\n",
    "datefrequency=(dateframe.value_counts())\n",
    "# for i in range(len(datefrequency)):\n",
    "#     print(datefrequency[i])\n",
    "print(datefrequency.index[0][0])\n",
    "\n"
   ]
  },
  {
   "cell_type": "code",
   "execution_count": 7,
   "metadata": {},
   "outputs": [
    {
     "data": {
      "image/png": "[encoded data removed]",
      "text/plain": [
       "<Figure size 720x720 with 1 Axes>"
      ]
     },
     "metadata": {
      "needs_background": "light"
     },
     "output_type": "display_data"
    }
   ],
   "source": [
    "datefreq=Counter(datelist)\n",
    "names = list(datefreq.keys())\n",
    "values = list(datefreq.values())\n",
    "xpos=list(range(4,49,4))\n",
    "plt.figure(figsize=(10,10))\n",
    "plt.bar(xpos, values,width=2)\n",
    "plt.xticks(xpos, names)\n",
    "plt.show()"
   ]
  },
  {
   "cell_type": "code",
   "execution_count": 8,
   "metadata": {},
   "outputs": [
    {
     "name": "stdout",
     "output_type": "stream",
     "text": [
      "Staple envelope\n"
     ]
    },
    {
     "data": {
      "text/plain": [
       "'Staple envelope'"
      ]
     },
     "execution_count": 8,
     "metadata": {},
     "output_type": "execute_result"
    }
   ],
   "source": [
    "df2=df[\"Product Name\"]\n",
    "# for i in range(len(df2)):\n",
    "#     print(df2[i])\n",
    "Products=[]\n",
    "for i in range(len(df2)):\n",
    "    Products.append(df2[i])\n",
    "# print(Products)\n",
    "#     parsed_date = datetime.datetime.strptime(date1, \"%m/%d/%Y\")\n",
    "#     currentMonthName = parsed_date.strftime(\"%B\")\n",
    "#     datelist.append(currentMonthName)\n",
    "Productsdf=pd.DataFrame(Products)\n",
    "Productsfrequency=(Productsdf.value_counts())\n",
    "# for i in range(len(Productsfrequency)):\n",
    "#     print(Productsfrequency[i])\n",
    "print(Productsfrequency.index[0][0])\n",
    "Productsdf.mode()[0][0]"
   ]
  },
  {
   "cell_type": "code",
   "execution_count": 9,
   "metadata": {},
   "outputs": [
    {
     "name": "stdout",
     "output_type": "stream",
     "text": [
      "June\n"
     ]
    }
   ],
   "source": [
    "df4=df[\"Order Date\"]\n",
    "date2=df4[2]\n",
    "datelist=[]\n",
    "for i in range(len(df4)):\n",
    "    date1=df2[i]\n",
    "    parsed_date = datetime.datetime.strptime(date2, \"%m/%d/%Y\")\n",
    "    currentMonthName = parsed_date.strftime(\"%B\")\n",
    "    datelist.append(currentMonthName)\n",
    "dateframe=pd.DataFrame(datelist)\n",
    "datefrequency=(dateframe.value_counts())\n",
    "# for i in range(len(datefrequency)):\n",
    "#     print(datefrequency[i])\n",
    "print(datefrequency.index[0][0])"
   ]
  },
  {
   "cell_type": "code",
   "execution_count": 8,
   "metadata": {},
   "outputs": [
    {
     "data": {
      "text/plain": [
       "61599.824"
      ]
     },
     "execution_count": 8,
     "metadata": {},
     "output_type": "execute_result"
    }
   ],
   "source": [
    "pn=df.groupby(\"Product Name\")[\"Sales\"].sum()\n",
    "# for i in range(1850):\n",
    "#     print(pn[i])\n",
    "pn.max()"
   ]
  },
  {
   "cell_type": "code",
   "execution_count": null,
   "metadata": {},
   "outputs": [],
   "source": [
    "[a,b,c,d,e]\n",
    "[3,4,5,1,2]\n",
    "[1,2,3,4,5]\n",
    "[3,4,5,1,2]"
   ]
  }
 ],
 "metadata": {
  "interpreter": {
   "hash": "0600588c3b5f4418cbe7b5ebc6825b479f3bc010269d8b60d75058cdd010adfe"
  },
  "kernelspec": {
   "display_name": "Python 3.7.0 64-bit",
   "language": "python",
   "name": "python3"
  },
  "language_info": {
   "codemirror_mode": {
    "name": "ipython",
    "version": 3
   },
   "file_extension": ".py",
   "mimetype": "text/x-python",
   "name": "python",
   "nbconvert_exporter": "python",
   "pygments_lexer": "ipython3",
   "version": "3.7.0"
  },
  "orig_nbformat": 4
 },
 "nbformat": 4,
 "nbformat_minor": 2
}
