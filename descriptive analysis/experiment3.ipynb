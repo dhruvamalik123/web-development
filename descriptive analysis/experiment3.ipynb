{
 "cells": [
  {
   "cell_type": "code",
   "execution_count": 1,
   "metadata": {},
   "outputs": [],
   "source": [
    "import pandas as pd\n",
    "import math\n",
    "df=pd.read_csv(\"iris.csv\")"
   ]
  },
  {
   "cell_type": "code",
   "execution_count": 2,
   "metadata": {},
   "outputs": [
    {
     "name": "stdout",
     "output_type": "stream",
     "text": [
      "5.843333333333335\n",
      "5.843333333333334\n"
     ]
    }
   ],
   "source": [
    "lst=df.SepalLengthCm\n",
    "sum=0\n",
    "for i in range(len(lst)):\n",
    "    sum+=lst[i];\n",
    "mean=sum/len(lst);\n",
    "print(mean)\n",
    "print(lst.mean())#Mean using builtin function\n"
   ]
  },
  {
   "cell_type": "code",
   "execution_count": 3,
   "metadata": {},
   "outputs": [
    {
     "name": "stdout",
     "output_type": "stream",
     "text": [
      "5.8\n",
      "5.8\n"
     ]
    }
   ],
   "source": [
    "lst1=lst.to_list()\n",
    "lst1.sort()\n",
    "n=len(lst1)\n",
    "if n%2==0:\n",
    "    mid=(lst1[((n//2)-1)]+lst1[(n//2)])/2\n",
    "else:\n",
    "    mid=lst1[(n//2)]\n",
    "print(mid)\n",
    "print(lst.median())#Median using builtin function"
   ]
  },
  {
   "cell_type": "code",
   "execution_count": 5,
   "metadata": {},
   "outputs": [
    {
     "name": "stdout",
     "output_type": "stream",
     "text": [
      "5.0\n",
      "5.0\n"
     ]
    }
   ],
   "source": [
    "k=lst.value_counts()\n",
    "print(k.index[0])\n",
    "print(lst.mode()[0])#Mode using builtin function\n"
   ]
  },
  {
   "cell_type": "code",
   "execution_count": 6,
   "metadata": {},
   "outputs": [
    {
     "name": "stdout",
     "output_type": "stream",
     "text": [
      "0.6856935123042505\n",
      "0.6856935123042507\n"
     ]
    }
   ],
   "source": [
    "varsum=0\n",
    "for i in range(len(lst)):\n",
    "    varsum+=((mean-lst[i])**2)\n",
    "variance=varsum/((len(lst))-1)\n",
    "print(variance)\n",
    "print(lst.var())#Variance using builtin function"
   ]
  },
  {
   "cell_type": "code",
   "execution_count": 7,
   "metadata": {},
   "outputs": [
    {
     "name": "stdout",
     "output_type": "stream",
     "text": [
      "0.8280661279778629\n",
      "0.828066127977863\n"
     ]
    }
   ],
   "source": [
    "stddev=math.sqrt(variance)\n",
    "print(stddev)\n",
    "print(lst.std())#Standard Deviation using builtin function"
   ]
  }
 ],
 "metadata": {
  "interpreter": {
   "hash": "0600588c3b5f4418cbe7b5ebc6825b479f3bc010269d8b60d75058cdd010adfe"
  },
  "kernelspec": {
   "display_name": "Python 3.7.0 64-bit",
   "language": "python",
   "name": "python3"
  },
  "language_info": {
   "codemirror_mode": {
    "name": "ipython",
    "version": 3
   },
   "file_extension": ".py",
   "mimetype": "text/x-python",
   "name": "python",
   "nbconvert_exporter": "python",
   "pygments_lexer": "ipython3",
   "version": "3.7.0"
  },
  "orig_nbformat": 4
 },
 "nbformat": 4,
 "nbformat_minor": 2
}
